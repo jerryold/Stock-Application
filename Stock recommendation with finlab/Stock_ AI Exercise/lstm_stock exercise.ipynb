{
 "cells": [
  {
   "cell_type": "markdown",
   "metadata": {},
   "source": [
    "# 神經網路實做"
   ]
  },
  {
   "cell_type": "markdown",
   "metadata": {},
   "source": [
    "## 拿取加權指數資料"
   ]
  },
  {
   "cell_type": "code",
   "execution_count": 26,
   "metadata": {},
   "outputs": [
    {
     "data": {
      "text/plain": [
       "date\n",
       "2006-01-02 09:00:00    6548.34\n",
       "2006-01-02 09:15:00    6478.09\n",
       "2006-01-02 09:30:00    6474.88\n",
       "2006-01-02 09:45:00    6471.12\n",
       "2006-01-02 10:00:00    6480.50\n",
       "Name: 台股指數, dtype: float64"
      ]
     },
     "execution_count": 26,
     "metadata": {},
     "output_type": "execute_result"
    }
   ],
   "source": [
    "from finlab.data import Data\n",
    "\n",
    "data = Data()\n",
    "twii = data.get(\"發行量加權股價指數\")\n",
    "\n",
    "twii = twii['台股指數'].resample(\"15T\").first().dropna()\n",
    "twii.head()"
   ]
  },
  {
   "cell_type": "markdown",
   "metadata": {},
   "source": [
    "## 製作features"
   ]
  },
  {
   "cell_type": "code",
   "execution_count": 27,
   "metadata": {},
   "outputs": [],
   "source": [
    "import talib\n",
    "import numpy as np\n",
    "import pandas as pd\n",
    "\n",
    "sma = talib.SMA(twii, timeperiod=120)\n",
    "wma = talib.WMA(twii, timeperiod=120)\n",
    "mom = talib.MOM(twii, timeperiod=120)\n",
    "k, d = talib.STOCH  (twii, twii, twii, fastk_period=120, slowk_period=60, slowd_period=60)\n",
    "k2, d2 = talib.STOCH(twii, twii, twii, fastk_period=240, slowk_period=120, slowd_period=120)\n",
    "k3, d3 = talib.STOCH(twii, twii, twii, fastk_period=360, slowk_period=180, slowd_period=180)\n",
    "k4, d4 = talib.STOCH(twii, twii, twii, fastk_period=480, slowk_period=240, slowd_period=240)\n",
    "k5, d5 = talib.STOCH(twii, twii, twii, fastk_period=640, slowk_period=320, slowd_period=320)\n",
    "k6, d6 = talib.STOCH(twii, twii, twii, fastk_period=720, slowk_period=360, slowd_period=360)\n",
    "k7, d7 = talib.STOCH(twii, twii, twii, fastk_period=840, slowk_period=420, slowd_period=420)\n",
    "k8, d8 = talib.STOCH(twii, twii, twii, fastk_period=960, slowk_period=480, slowd_period=480)\n",
    "\n",
    "rsi = talib.RSI (twii, timeperiod=120)\n",
    "rsi2 = talib.RSI(twii, timeperiod=240)\n",
    "rsi3 = talib.RSI(twii, timeperiod=480)\n",
    "rsi4 = talib.RSI(twii, timeperiod=640)\n",
    "rsi5 = talib.RSI(twii, timeperiod=720)\n",
    "rsi6 = talib.RSI(twii, timeperiod=840)\n",
    "\n",
    "macd1, macd2, macd3 = talib.MACD(twii, fastperiod=120, slowperiod=60, signalperiod=60)\n",
    "willr = talib.WILLR(twii, twii, twii, timeperiod=120)\n",
    "cci = talib.CCI(twii, twii, twii, timeperiod=120)\n",
    "\n",
    "dataset = pd.DataFrame({\n",
    "    'RSIb': rsi / 50,\n",
    "    'RSIb2': rsi2 / 50,\n",
    "    'RSIb3': rsi3 / 50,\n",
    "    'RSIb4': rsi4 / 50,\n",
    "    'RSIb5': rsi5 / 50,\n",
    "    'RSIb6': rsi6 / 50,\n",
    "    'MOMb': mom - 0,\n",
    "    'KDb': k - d,\n",
    "    'KDb2': k2 - d2,\n",
    "    'KDb3': k3 - d3,\n",
    "    'KDb4': k4 - d4,\n",
    "    'KDb5': k5 - d5,\n",
    "    'KDb6': k6 - d6,\n",
    "    'KDb7': k7 - d7,\n",
    "    'KDb8': k8 - d8,\n",
    "    \n",
    "    'a5':   (twii.rolling(5).mean()   / twii),\n",
    "    'a10':  (twii.rolling(10).mean()  / twii),\n",
    "    'a20':  (twii.rolling(20).mean()  / twii),\n",
    "    'a40':  (twii.rolling(40).mean()  / twii),\n",
    "    'a80':  (twii.rolling(80).mean()  / twii),\n",
    "    'a160': (twii.rolling(160).mean() / twii),\n",
    "    'a320': (twii.rolling(320).mean() / twii),\n",
    "    'a640': (twii.rolling(640).mean() / twii),\n",
    "    'a720': (twii.rolling(720).mean() / twii),\n",
    "    'a840': (twii.rolling(840).mean() / twii),\n",
    "    'a960': (twii.rolling(960).mean() / twii),\n",
    "    'a1024':(twii.rolling(1024).mean() / twii),\n",
    "    'b1': twii/twii.shift(50),\n",
    "    'b2': twii/twii.shift(100),\n",
    "    'b3': twii/twii.shift(150),\n",
    "    'b4': twii/twii.shift(200),\n",
    "    'b5': twii/twii.shift(250),\n",
    "    'b6': twii/twii.shift(300),\n",
    "    'b7': twii/twii.shift(350),\n",
    "    'LINEARREG_SLOPE0': talib.LINEARREG_SLOPE(twii, 60),\n",
    "    'LINEARREG_SLOPE1': talib.LINEARREG_SLOPE(twii, 120),\n",
    "\n",
    "    'ADXR0': talib.ADXR(twii, twii, twii, 60),\n",
    "    'ADXR1': talib.ADXR(twii, twii, twii, 120),\n",
    "    'ADXR2': talib.ADXR(twii, twii, twii, 240),\n",
    "    'ADXR3': talib.ADXR(twii, twii, twii, 360),\n",
    "    'ADXR4': talib.ADXR(twii, twii, twii, 480),\n",
    "    'ADXR5': talib.ADXR(twii, twii, twii, 640),\n",
    "\n",
    "    'return': twii.shift(-10) / twii,\n",
    "})\n",
    "\n",
    "feature_names = list(dataset.columns[:-1])"
   ]
  },
  {
   "cell_type": "markdown",
   "metadata": {},
   "source": [
    "## 簡單處理一下"
   ]
  },
  {
   "cell_type": "code",
   "execution_count": 28,
   "metadata": {},
   "outputs": [
    {
     "name": "stdout",
     "output_type": "stream",
     "text": [
      "before dropping NaN (78090, 43)\n",
      "after dropping NaN (76162, 43)\n"
     ]
    }
   ],
   "source": [
    "print(\"before dropping NaN\", dataset.shape)\n",
    "dataset = dataset.dropna()\n",
    "print(\"after dropping NaN\", dataset.shape)\n"
   ]
  },
  {
   "cell_type": "code",
   "execution_count": 29,
   "metadata": {},
   "outputs": [
    {
     "name": "stdout",
     "output_type": "stream",
     "text": [
      "[LightGBM] [Info] Number of positive: 23308, number of negative: 21913\n",
      "[LightGBM] [Info] Auto-choosing col-wise multi-threading, the overhead of testing was 0.003236 seconds.\n",
      "You can set `force_col_wise=true` to remove the overhead.\n",
      "[LightGBM] [Info] Total Bins 10710\n",
      "[LightGBM] [Info] Number of data points in the train set: 45221, number of used features: 42\n",
      "[LightGBM] [Info] [binary:BoostFromScore]: pavg=0.515424 -> initscore=0.061717\n",
      "[LightGBM] [Info] Start training from score 0.061717\n"
     ]
    },
    {
     "data": {
      "text/html": [
       "<style>#sk-container-id-3 {color: black;}#sk-container-id-3 pre{padding: 0;}#sk-container-id-3 div.sk-toggleable {background-color: white;}#sk-container-id-3 label.sk-toggleable__label {cursor: pointer;display: block;width: 100%;margin-bottom: 0;padding: 0.3em;box-sizing: border-box;text-align: center;}#sk-container-id-3 label.sk-toggleable__label-arrow:before {content: \"▸\";float: left;margin-right: 0.25em;color: #696969;}#sk-container-id-3 label.sk-toggleable__label-arrow:hover:before {color: black;}#sk-container-id-3 div.sk-estimator:hover label.sk-toggleable__label-arrow:before {color: black;}#sk-container-id-3 div.sk-toggleable__content {max-height: 0;max-width: 0;overflow: hidden;text-align: left;background-color: #f0f8ff;}#sk-container-id-3 div.sk-toggleable__content pre {margin: 0.2em;color: black;border-radius: 0.25em;background-color: #f0f8ff;}#sk-container-id-3 input.sk-toggleable__control:checked~div.sk-toggleable__content {max-height: 200px;max-width: 100%;overflow: auto;}#sk-container-id-3 input.sk-toggleable__control:checked~label.sk-toggleable__label-arrow:before {content: \"▾\";}#sk-container-id-3 div.sk-estimator input.sk-toggleable__control:checked~label.sk-toggleable__label {background-color: #d4ebff;}#sk-container-id-3 div.sk-label input.sk-toggleable__control:checked~label.sk-toggleable__label {background-color: #d4ebff;}#sk-container-id-3 input.sk-hidden--visually {border: 0;clip: rect(1px 1px 1px 1px);clip: rect(1px, 1px, 1px, 1px);height: 1px;margin: -1px;overflow: hidden;padding: 0;position: absolute;width: 1px;}#sk-container-id-3 div.sk-estimator {font-family: monospace;background-color: #f0f8ff;border: 1px dotted black;border-radius: 0.25em;box-sizing: border-box;margin-bottom: 0.5em;}#sk-container-id-3 div.sk-estimator:hover {background-color: #d4ebff;}#sk-container-id-3 div.sk-parallel-item::after {content: \"\";width: 100%;border-bottom: 1px solid gray;flex-grow: 1;}#sk-container-id-3 div.sk-label:hover label.sk-toggleable__label {background-color: #d4ebff;}#sk-container-id-3 div.sk-serial::before {content: \"\";position: absolute;border-left: 1px solid gray;box-sizing: border-box;top: 0;bottom: 0;left: 50%;z-index: 0;}#sk-container-id-3 div.sk-serial {display: flex;flex-direction: column;align-items: center;background-color: white;padding-right: 0.2em;padding-left: 0.2em;position: relative;}#sk-container-id-3 div.sk-item {position: relative;z-index: 1;}#sk-container-id-3 div.sk-parallel {display: flex;align-items: stretch;justify-content: center;background-color: white;position: relative;}#sk-container-id-3 div.sk-item::before, #sk-container-id-3 div.sk-parallel-item::before {content: \"\";position: absolute;border-left: 1px solid gray;box-sizing: border-box;top: 0;bottom: 0;left: 50%;z-index: -1;}#sk-container-id-3 div.sk-parallel-item {display: flex;flex-direction: column;z-index: 1;position: relative;background-color: white;}#sk-container-id-3 div.sk-parallel-item:first-child::after {align-self: flex-end;width: 50%;}#sk-container-id-3 div.sk-parallel-item:last-child::after {align-self: flex-start;width: 50%;}#sk-container-id-3 div.sk-parallel-item:only-child::after {width: 0;}#sk-container-id-3 div.sk-dashed-wrapped {border: 1px dashed gray;margin: 0 0.4em 0.5em 0.4em;box-sizing: border-box;padding-bottom: 0.4em;background-color: white;}#sk-container-id-3 div.sk-label label {font-family: monospace;font-weight: bold;display: inline-block;line-height: 1.2em;}#sk-container-id-3 div.sk-label-container {text-align: center;}#sk-container-id-3 div.sk-container {/* jupyter's `normalize.less` sets `[hidden] { display: none; }` but bootstrap.min.css set `[hidden] { display: none !important; }` so we also need the `!important` here to be able to override the default hidden behavior on the sphinx rendered scikit-learn.org. See: https://github.com/scikit-learn/scikit-learn/issues/21755 */display: inline-block !important;position: relative;}#sk-container-id-3 div.sk-text-repr-fallback {display: none;}</style><div id=\"sk-container-id-3\" class=\"sk-top-container\"><div class=\"sk-text-repr-fallback\"><pre>LGBMClassifier(learning_rate=0.01, random_state=5)</pre><b>In a Jupyter environment, please rerun this cell to show the HTML representation or trust the notebook. <br />On GitHub, the HTML representation is unable to render, please try loading this page with nbviewer.org.</b></div><div class=\"sk-container\" hidden><div class=\"sk-item\"><div class=\"sk-estimator sk-toggleable\"><input class=\"sk-toggleable__control sk-hidden--visually\" id=\"sk-estimator-id-3\" type=\"checkbox\" checked><label for=\"sk-estimator-id-3\" class=\"sk-toggleable__label sk-toggleable__label-arrow\">LGBMClassifier</label><div class=\"sk-toggleable__content\"><pre>LGBMClassifier(learning_rate=0.01, random_state=5)</pre></div></div></div></div></div>"
      ],
      "text/plain": [
       "LGBMClassifier(learning_rate=0.01, random_state=5)"
      ]
     },
     "execution_count": 29,
     "metadata": {},
     "output_type": "execute_result"
    }
   ],
   "source": [
    "import lightgbm as lgb\n",
    "dataset_train = dataset[:'2015']\n",
    "\n",
    "gbm = lgb.LGBMClassifier(n_estimators=100, random_state=5, learning_rate=0.01)\n",
    "\n",
    "gbm.fit(dataset_train[feature_names], dataset_train['return'] > 1)\n"
   ]
  },
  {
   "cell_type": "markdown",
   "metadata": {},
   "source": [
    "## 神經網路Preprocessing"
   ]
  },
  {
   "cell_type": "code",
   "execution_count": 30,
   "metadata": {},
   "outputs": [
    {
     "data": {
      "text/html": [
       "<div>\n",
       "<style scoped>\n",
       "    .dataframe tbody tr th:only-of-type {\n",
       "        vertical-align: middle;\n",
       "    }\n",
       "\n",
       "    .dataframe tbody tr th {\n",
       "        vertical-align: top;\n",
       "    }\n",
       "\n",
       "    .dataframe thead th {\n",
       "        text-align: right;\n",
       "    }\n",
       "</style>\n",
       "<table border=\"1\" class=\"dataframe\">\n",
       "  <thead>\n",
       "    <tr style=\"text-align: right;\">\n",
       "      <th></th>\n",
       "      <th>RSIb</th>\n",
       "      <th>RSIb2</th>\n",
       "      <th>RSIb3</th>\n",
       "      <th>RSIb4</th>\n",
       "      <th>RSIb5</th>\n",
       "      <th>RSIb6</th>\n",
       "      <th>MOMb</th>\n",
       "      <th>KDb</th>\n",
       "      <th>KDb2</th>\n",
       "      <th>KDb3</th>\n",
       "      <th>...</th>\n",
       "      <th>b7</th>\n",
       "      <th>LINEARREG_SLOPE0</th>\n",
       "      <th>LINEARREG_SLOPE1</th>\n",
       "      <th>ADXR0</th>\n",
       "      <th>ADXR1</th>\n",
       "      <th>ADXR2</th>\n",
       "      <th>ADXR3</th>\n",
       "      <th>ADXR4</th>\n",
       "      <th>ADXR5</th>\n",
       "      <th>return</th>\n",
       "    </tr>\n",
       "  </thead>\n",
       "  <tbody>\n",
       "    <tr>\n",
       "      <th>count</th>\n",
       "      <td>7.616200e+04</td>\n",
       "      <td>7.616200e+04</td>\n",
       "      <td>7.616200e+04</td>\n",
       "      <td>7.616200e+04</td>\n",
       "      <td>7.616200e+04</td>\n",
       "      <td>7.616200e+04</td>\n",
       "      <td>7.616200e+04</td>\n",
       "      <td>7.616200e+04</td>\n",
       "      <td>7.616200e+04</td>\n",
       "      <td>7.616200e+04</td>\n",
       "      <td>...</td>\n",
       "      <td>7.616200e+04</td>\n",
       "      <td>7.616200e+04</td>\n",
       "      <td>7.616200e+04</td>\n",
       "      <td>7.616200e+04</td>\n",
       "      <td>7.616200e+04</td>\n",
       "      <td>7.616200e+04</td>\n",
       "      <td>7.616200e+04</td>\n",
       "      <td>7.616200e+04</td>\n",
       "      <td>7.616200e+04</td>\n",
       "      <td>76162.000000</td>\n",
       "    </tr>\n",
       "    <tr>\n",
       "      <th>mean</th>\n",
       "      <td>7.612758e-16</td>\n",
       "      <td>-1.552406e-16</td>\n",
       "      <td>-8.000859e-16</td>\n",
       "      <td>-3.283935e-16</td>\n",
       "      <td>-6.143943e-15</td>\n",
       "      <td>-4.340765e-15</td>\n",
       "      <td>2.089777e-17</td>\n",
       "      <td>-2.313681e-17</td>\n",
       "      <td>-1.921848e-17</td>\n",
       "      <td>5.597616e-18</td>\n",
       "      <td>...</td>\n",
       "      <td>-1.662865e-15</td>\n",
       "      <td>-1.044888e-17</td>\n",
       "      <td>8.956186e-18</td>\n",
       "      <td>-1.836018e-16</td>\n",
       "      <td>-4.284042e-16</td>\n",
       "      <td>1.641967e-16</td>\n",
       "      <td>1.761383e-16</td>\n",
       "      <td>-2.597294e-16</td>\n",
       "      <td>-1.418063e-16</td>\n",
       "      <td>1.000140</td>\n",
       "    </tr>\n",
       "    <tr>\n",
       "      <th>std</th>\n",
       "      <td>1.000007e+00</td>\n",
       "      <td>1.000007e+00</td>\n",
       "      <td>1.000007e+00</td>\n",
       "      <td>1.000007e+00</td>\n",
       "      <td>1.000007e+00</td>\n",
       "      <td>1.000007e+00</td>\n",
       "      <td>1.000007e+00</td>\n",
       "      <td>1.000007e+00</td>\n",
       "      <td>1.000007e+00</td>\n",
       "      <td>1.000007e+00</td>\n",
       "      <td>...</td>\n",
       "      <td>1.000007e+00</td>\n",
       "      <td>1.000007e+00</td>\n",
       "      <td>1.000007e+00</td>\n",
       "      <td>1.000007e+00</td>\n",
       "      <td>1.000007e+00</td>\n",
       "      <td>1.000007e+00</td>\n",
       "      <td>1.000007e+00</td>\n",
       "      <td>1.000007e+00</td>\n",
       "      <td>1.000007e+00</td>\n",
       "      <td>0.008226</td>\n",
       "    </tr>\n",
       "    <tr>\n",
       "      <th>min</th>\n",
       "      <td>-4.420273e+00</td>\n",
       "      <td>-4.571655e+00</td>\n",
       "      <td>-4.844865e+00</td>\n",
       "      <td>-4.830318e+00</td>\n",
       "      <td>-4.798296e+00</td>\n",
       "      <td>-4.732656e+00</td>\n",
       "      <td>-9.043366e+00</td>\n",
       "      <td>-2.585279e+00</td>\n",
       "      <td>-2.681749e+00</td>\n",
       "      <td>-2.668871e+00</td>\n",
       "      <td>...</td>\n",
       "      <td>-5.526049e+00</td>\n",
       "      <td>-9.479454e+00</td>\n",
       "      <td>-7.220371e+00</td>\n",
       "      <td>-2.113092e+00</td>\n",
       "      <td>-2.013057e+00</td>\n",
       "      <td>-1.699734e+00</td>\n",
       "      <td>-1.607631e+00</td>\n",
       "      <td>-1.743051e+00</td>\n",
       "      <td>-1.788210e+00</td>\n",
       "      <td>0.924507</td>\n",
       "    </tr>\n",
       "    <tr>\n",
       "      <th>25%</th>\n",
       "      <td>-6.808589e-01</td>\n",
       "      <td>-6.805118e-01</td>\n",
       "      <td>-6.701653e-01</td>\n",
       "      <td>-6.643241e-01</td>\n",
       "      <td>-6.602131e-01</td>\n",
       "      <td>-6.502258e-01</td>\n",
       "      <td>-4.628830e-01</td>\n",
       "      <td>-6.431063e-01</td>\n",
       "      <td>-6.457566e-01</td>\n",
       "      <td>-6.308559e-01</td>\n",
       "      <td>...</td>\n",
       "      <td>-5.247780e-01</td>\n",
       "      <td>-4.650399e-01</td>\n",
       "      <td>-4.711497e-01</td>\n",
       "      <td>-7.429286e-01</td>\n",
       "      <td>-6.983777e-01</td>\n",
       "      <td>-7.491920e-01</td>\n",
       "      <td>-7.029094e-01</td>\n",
       "      <td>-6.840126e-01</td>\n",
       "      <td>-7.157764e-01</td>\n",
       "      <td>0.997014</td>\n",
       "    </tr>\n",
       "    <tr>\n",
       "      <th>50%</th>\n",
       "      <td>9.804691e-02</td>\n",
       "      <td>1.161562e-01</td>\n",
       "      <td>1.130169e-01</td>\n",
       "      <td>1.170881e-01</td>\n",
       "      <td>1.218558e-01</td>\n",
       "      <td>1.276173e-01</td>\n",
       "      <td>8.838265e-02</td>\n",
       "      <td>-1.193381e-02</td>\n",
       "      <td>-3.042855e-02</td>\n",
       "      <td>-8.651718e-03</td>\n",
       "      <td>...</td>\n",
       "      <td>1.182274e-01</td>\n",
       "      <td>7.799646e-02</td>\n",
       "      <td>8.037066e-02</td>\n",
       "      <td>-1.505860e-01</td>\n",
       "      <td>-2.295839e-01</td>\n",
       "      <td>-2.701732e-01</td>\n",
       "      <td>-2.505890e-01</td>\n",
       "      <td>-2.338925e-01</td>\n",
       "      <td>-2.145211e-01</td>\n",
       "      <td>1.000293</td>\n",
       "    </tr>\n",
       "    <tr>\n",
       "      <th>75%</th>\n",
       "      <td>7.227951e-01</td>\n",
       "      <td>7.118843e-01</td>\n",
       "      <td>6.842685e-01</td>\n",
       "      <td>6.901158e-01</td>\n",
       "      <td>6.887092e-01</td>\n",
       "      <td>6.868917e-01</td>\n",
       "      <td>5.728830e-01</td>\n",
       "      <td>6.585073e-01</td>\n",
       "      <td>6.711449e-01</td>\n",
       "      <td>6.056063e-01</td>\n",
       "      <td>...</td>\n",
       "      <td>5.773039e-01</td>\n",
       "      <td>5.656572e-01</td>\n",
       "      <td>5.730772e-01</td>\n",
       "      <td>5.933363e-01</td>\n",
       "      <td>4.659815e-01</td>\n",
       "      <td>4.982681e-01</td>\n",
       "      <td>4.896800e-01</td>\n",
       "      <td>4.939855e-01</td>\n",
       "      <td>5.710564e-01</td>\n",
       "      <td>1.003695</td>\n",
       "    </tr>\n",
       "    <tr>\n",
       "      <th>max</th>\n",
       "      <td>2.883627e+00</td>\n",
       "      <td>2.830158e+00</td>\n",
       "      <td>3.037121e+00</td>\n",
       "      <td>3.113137e+00</td>\n",
       "      <td>3.131951e+00</td>\n",
       "      <td>3.145406e+00</td>\n",
       "      <td>5.022297e+00</td>\n",
       "      <td>2.728150e+00</td>\n",
       "      <td>2.591319e+00</td>\n",
       "      <td>2.560138e+00</td>\n",
       "      <td>...</td>\n",
       "      <td>4.884701e+00</td>\n",
       "      <td>4.756142e+00</td>\n",
       "      <td>4.025058e+00</td>\n",
       "      <td>4.525993e+00</td>\n",
       "      <td>4.107300e+00</td>\n",
       "      <td>3.862548e+00</td>\n",
       "      <td>3.572192e+00</td>\n",
       "      <td>3.677621e+00</td>\n",
       "      <td>3.531789e+00</td>\n",
       "      <td>1.087726</td>\n",
       "    </tr>\n",
       "  </tbody>\n",
       "</table>\n",
       "<p>8 rows × 43 columns</p>\n",
       "</div>"
      ],
      "text/plain": [
       "               RSIb         RSIb2         RSIb3         RSIb4         RSIb5  \\\n",
       "count  7.616200e+04  7.616200e+04  7.616200e+04  7.616200e+04  7.616200e+04   \n",
       "mean   7.612758e-16 -1.552406e-16 -8.000859e-16 -3.283935e-16 -6.143943e-15   \n",
       "std    1.000007e+00  1.000007e+00  1.000007e+00  1.000007e+00  1.000007e+00   \n",
       "min   -4.420273e+00 -4.571655e+00 -4.844865e+00 -4.830318e+00 -4.798296e+00   \n",
       "25%   -6.808589e-01 -6.805118e-01 -6.701653e-01 -6.643241e-01 -6.602131e-01   \n",
       "50%    9.804691e-02  1.161562e-01  1.130169e-01  1.170881e-01  1.218558e-01   \n",
       "75%    7.227951e-01  7.118843e-01  6.842685e-01  6.901158e-01  6.887092e-01   \n",
       "max    2.883627e+00  2.830158e+00  3.037121e+00  3.113137e+00  3.131951e+00   \n",
       "\n",
       "              RSIb6          MOMb           KDb          KDb2          KDb3  \\\n",
       "count  7.616200e+04  7.616200e+04  7.616200e+04  7.616200e+04  7.616200e+04   \n",
       "mean  -4.340765e-15  2.089777e-17 -2.313681e-17 -1.921848e-17  5.597616e-18   \n",
       "std    1.000007e+00  1.000007e+00  1.000007e+00  1.000007e+00  1.000007e+00   \n",
       "min   -4.732656e+00 -9.043366e+00 -2.585279e+00 -2.681749e+00 -2.668871e+00   \n",
       "25%   -6.502258e-01 -4.628830e-01 -6.431063e-01 -6.457566e-01 -6.308559e-01   \n",
       "50%    1.276173e-01  8.838265e-02 -1.193381e-02 -3.042855e-02 -8.651718e-03   \n",
       "75%    6.868917e-01  5.728830e-01  6.585073e-01  6.711449e-01  6.056063e-01   \n",
       "max    3.145406e+00  5.022297e+00  2.728150e+00  2.591319e+00  2.560138e+00   \n",
       "\n",
       "       ...            b7  LINEARREG_SLOPE0  LINEARREG_SLOPE1         ADXR0  \\\n",
       "count  ...  7.616200e+04      7.616200e+04      7.616200e+04  7.616200e+04   \n",
       "mean   ... -1.662865e-15     -1.044888e-17      8.956186e-18 -1.836018e-16   \n",
       "std    ...  1.000007e+00      1.000007e+00      1.000007e+00  1.000007e+00   \n",
       "min    ... -5.526049e+00     -9.479454e+00     -7.220371e+00 -2.113092e+00   \n",
       "25%    ... -5.247780e-01     -4.650399e-01     -4.711497e-01 -7.429286e-01   \n",
       "50%    ...  1.182274e-01      7.799646e-02      8.037066e-02 -1.505860e-01   \n",
       "75%    ...  5.773039e-01      5.656572e-01      5.730772e-01  5.933363e-01   \n",
       "max    ...  4.884701e+00      4.756142e+00      4.025058e+00  4.525993e+00   \n",
       "\n",
       "              ADXR1         ADXR2         ADXR3         ADXR4         ADXR5  \\\n",
       "count  7.616200e+04  7.616200e+04  7.616200e+04  7.616200e+04  7.616200e+04   \n",
       "mean  -4.284042e-16  1.641967e-16  1.761383e-16 -2.597294e-16 -1.418063e-16   \n",
       "std    1.000007e+00  1.000007e+00  1.000007e+00  1.000007e+00  1.000007e+00   \n",
       "min   -2.013057e+00 -1.699734e+00 -1.607631e+00 -1.743051e+00 -1.788210e+00   \n",
       "25%   -6.983777e-01 -7.491920e-01 -7.029094e-01 -6.840126e-01 -7.157764e-01   \n",
       "50%   -2.295839e-01 -2.701732e-01 -2.505890e-01 -2.338925e-01 -2.145211e-01   \n",
       "75%    4.659815e-01  4.982681e-01  4.896800e-01  4.939855e-01  5.710564e-01   \n",
       "max    4.107300e+00  3.862548e+00  3.572192e+00  3.677621e+00  3.531789e+00   \n",
       "\n",
       "             return  \n",
       "count  76162.000000  \n",
       "mean       1.000140  \n",
       "std        0.008226  \n",
       "min        0.924507  \n",
       "25%        0.997014  \n",
       "50%        1.000293  \n",
       "75%        1.003695  \n",
       "max        1.087726  \n",
       "\n",
       "[8 rows x 43 columns]"
      ]
     },
     "execution_count": 30,
     "metadata": {},
     "output_type": "execute_result"
    }
   ],
   "source": [
    "from sklearn.preprocessing import StandardScaler\n",
    "\n",
    "ss = StandardScaler()\n",
    "\n",
    "dataset_scaled = ss.fit_transform(dataset)\n",
    "dataset_scaled = pd.DataFrame(dataset_scaled, columns=dataset.columns, index=dataset.index)\n",
    "dataset_scaled['return'] = dataset['return']\n",
    "dataset_scaled.describe()"
   ]
  },
  {
   "cell_type": "code",
   "execution_count": 31,
   "metadata": {},
   "outputs": [
    {
     "name": "stderr",
     "output_type": "stream",
     "text": [
      "C:\\Users\\jerry\\AppData\\Local\\Temp\\ipykernel_4248\\1713141429.py:12: TqdmDeprecationWarning: This function will be removed in tqdm==5.0.0\n",
      "Please use `tqdm.notebook.tqdm` instead of `tqdm.tqdm_notebook`\n",
      "  for i in tqdm.tqdm_notebook(range(0, len(dataset_scaled)-n)):\n"
     ]
    },
    {
     "data": {
      "application/vnd.jupyter.widget-view+json": {
       "model_id": "5cd04d39b85f4c9a8794d834d4393572",
       "version_major": 2,
       "version_minor": 0
      },
      "text/plain": [
       "  0%|          | 0/76159 [00:00<?, ?it/s]"
      ]
     },
     "metadata": {},
     "output_type": "display_data"
    }
   ],
   "source": [
    "#切割時間軸\n",
    "\n",
    "import tqdm\n",
    "\n",
    "n = 3\n",
    "\n",
    "X = []\n",
    "y = []\n",
    "indexes = []\n",
    "dataset_scaled_x = dataset_scaled[feature_names]\n",
    "\n",
    "for i in tqdm.tqdm_notebook(range(0, len(dataset_scaled)-n)):\n",
    "    X.append(dataset_scaled_x.iloc[i:i+n].values)\n",
    "    y.append(dataset_scaled['return'].iloc[i+n-1])\n",
    "    indexes.append(dataset_scaled.index[i+n-1])\n",
    "#dataset_scaled.head()"
   ]
  },
  {
   "cell_type": "code",
   "execution_count": 32,
   "metadata": {},
   "outputs": [],
   "source": [
    "import numpy as np\n",
    "X = np.array(X)\n",
    "y = np.array(y)"
   ]
  },
  {
   "cell_type": "code",
   "execution_count": 33,
   "metadata": {},
   "outputs": [],
   "source": [
    "indexes = np.array(indexes)"
   ]
  },
  {
   "cell_type": "markdown",
   "metadata": {},
   "source": [
    "## 神經網路 Model"
   ]
  },
  {
   "cell_type": "code",
   "execution_count": 34,
   "metadata": {
    "scrolled": true
   },
   "outputs": [
    {
     "name": "stdout",
     "output_type": "stream",
     "text": [
      "Model: \"sequential_1\"\n",
      "_________________________________________________________________\n",
      " Layer (type)                Output Shape              Param #   \n",
      "=================================================================\n",
      " lstm_2 (LSTM)               (None, 3, 100)            57200     \n",
      "                                                                 \n",
      " lstm_3 (LSTM)               (None, 100)               80400     \n",
      "                                                                 \n",
      " dense_2 (Dense)             (None, 8)                 808       \n",
      "                                                                 \n",
      " dense_3 (Dense)             (None, 1)                 9         \n",
      "                                                                 \n",
      "=================================================================\n",
      "Total params: 138,417\n",
      "Trainable params: 138,417\n",
      "Non-trainable params: 0\n",
      "_________________________________________________________________\n"
     ]
    }
   ],
   "source": [
    "from tensorflow import keras\n",
    "from tensorflow.keras import layers\n",
    "\n",
    "model = keras.models.Sequential()\n",
    "#model.add(keras.layers.Dense(100, activation=\"relu\", input_shape=(len(feature_names),)))\n",
    "model.add(layers.LSTM(100, return_sequences=True, input_shape=X[0].shape))\n",
    "model.add(layers.LSTM(100))\n",
    "model.add(layers.Dense(8))\n",
    "model.add(layers.Dense(1,kernel_initializer=\"uniform\",activation='linear'))\n",
    "\n",
    "adam = keras.optimizers.Adam(0.0006)\n",
    "\n",
    "model.compile(optimizer=adam, loss=\"binary_crossentropy\", metrics=['accuracy'])\n",
    "\n",
    "model.summary()"
   ]
  },
  {
   "cell_type": "markdown",
   "metadata": {},
   "source": [
    "## 神經網路訓練"
   ]
  },
  {
   "cell_type": "code",
   "execution_count": 35,
   "metadata": {
    "scrolled": true
   },
   "outputs": [
    {
     "name": "stdout",
     "output_type": "stream",
     "text": [
      "Epoch 1/100\n",
      "238/238 [==============================] - 4s 10ms/step - loss: 1.1461 - accuracy: 0.4926 - val_loss: 0.7224 - val_accuracy: 0.4913\n",
      "Epoch 2/100\n",
      "238/238 [==============================] - 1s 6ms/step - loss: 0.6988 - accuracy: 0.5227 - val_loss: 0.6997 - val_accuracy: 0.5075\n",
      "Epoch 3/100\n",
      "238/238 [==============================] - 1s 6ms/step - loss: 0.6905 - accuracy: 0.5334 - val_loss: 0.6956 - val_accuracy: 0.5136\n",
      "Epoch 4/100\n",
      "238/238 [==============================] - 1s 6ms/step - loss: 0.6872 - accuracy: 0.5462 - val_loss: 0.6942 - val_accuracy: 0.5190\n",
      "Epoch 5/100\n",
      "238/238 [==============================] - 1s 6ms/step - loss: 0.6843 - accuracy: 0.5534 - val_loss: 0.6953 - val_accuracy: 0.5200\n",
      "Epoch 6/100\n",
      "238/238 [==============================] - 1s 6ms/step - loss: 0.6815 - accuracy: 0.5607 - val_loss: 0.6947 - val_accuracy: 0.5209\n",
      "Epoch 7/100\n",
      "238/238 [==============================] - 1s 6ms/step - loss: 0.6786 - accuracy: 0.5674 - val_loss: 0.7053 - val_accuracy: 0.5052\n",
      "Epoch 8/100\n",
      "238/238 [==============================] - 1s 6ms/step - loss: 0.6749 - accuracy: 0.5755 - val_loss: 0.7077 - val_accuracy: 0.5225\n",
      "Epoch 9/100\n",
      "238/238 [==============================] - 1s 6ms/step - loss: 0.6709 - accuracy: 0.5825 - val_loss: 0.7244 - val_accuracy: 0.5162\n",
      "Epoch 10/100\n",
      "238/238 [==============================] - 1s 6ms/step - loss: 0.6666 - accuracy: 0.5878 - val_loss: 0.7346 - val_accuracy: 0.5123\n",
      "Epoch 11/100\n",
      "238/238 [==============================] - 1s 6ms/step - loss: 0.6656 - accuracy: 0.5929 - val_loss: 0.7144 - val_accuracy: 0.5025\n",
      "Epoch 12/100\n",
      "238/238 [==============================] - 1s 6ms/step - loss: 0.6601 - accuracy: 0.5972 - val_loss: 0.7626 - val_accuracy: 0.5024\n",
      "Epoch 13/100\n",
      "238/238 [==============================] - 1s 6ms/step - loss: 0.6545 - accuracy: 0.6076 - val_loss: 0.7945 - val_accuracy: 0.5196\n",
      "Epoch 14/100\n",
      "238/238 [==============================] - 2s 6ms/step - loss: 0.6497 - accuracy: 0.6128 - val_loss: 0.7873 - val_accuracy: 0.5094\n",
      "Epoch 15/100\n",
      "238/238 [==============================] - 1s 6ms/step - loss: 0.6433 - accuracy: 0.6201 - val_loss: 0.8623 - val_accuracy: 0.5114\n",
      "Epoch 16/100\n",
      "238/238 [==============================] - 1s 6ms/step - loss: 0.6381 - accuracy: 0.6270 - val_loss: 0.9294 - val_accuracy: 0.5171\n",
      "Epoch 17/100\n",
      "238/238 [==============================] - 1s 6ms/step - loss: 0.6366 - accuracy: 0.6269 - val_loss: 0.9600 - val_accuracy: 0.5129\n",
      "Epoch 18/100\n",
      "238/238 [==============================] - 1s 6ms/step - loss: 0.6308 - accuracy: 0.6399 - val_loss: 1.0012 - val_accuracy: 0.5123\n",
      "Epoch 19/100\n",
      "238/238 [==============================] - 1s 6ms/step - loss: 0.6391 - accuracy: 0.6366 - val_loss: 0.8238 - val_accuracy: 0.5185\n",
      "Epoch 20/100\n",
      "238/238 [==============================] - 1s 6ms/step - loss: 0.8362 - accuracy: 0.6101 - val_loss: 0.7487 - val_accuracy: 0.5018\n",
      "Epoch 21/100\n",
      "238/238 [==============================] - 1s 6ms/step - loss: 0.6619 - accuracy: 0.6020 - val_loss: 0.7230 - val_accuracy: 0.5128\n",
      "Epoch 22/100\n",
      "238/238 [==============================] - 1s 6ms/step - loss: 0.6430 - accuracy: 0.6279 - val_loss: 0.7447 - val_accuracy: 0.5204\n",
      "Epoch 23/100\n",
      "238/238 [==============================] - 1s 6ms/step - loss: 0.6316 - accuracy: 0.6363 - val_loss: 0.8102 - val_accuracy: 0.5137\n",
      "Epoch 24/100\n",
      "238/238 [==============================] - 1s 6ms/step - loss: 0.6224 - accuracy: 0.6473 - val_loss: 0.9151 - val_accuracy: 0.5176\n",
      "Epoch 25/100\n",
      "238/238 [==============================] - 1s 6ms/step - loss: 0.6148 - accuracy: 0.6537 - val_loss: 0.9966 - val_accuracy: 0.5165\n",
      "Epoch 26/100\n",
      "238/238 [==============================] - 1s 6ms/step - loss: 0.6109 - accuracy: 0.6580 - val_loss: 1.0502 - val_accuracy: 0.5170\n",
      "Epoch 27/100\n",
      "238/238 [==============================] - 1s 6ms/step - loss: 0.6031 - accuracy: 0.6657 - val_loss: 1.1422 - val_accuracy: 0.5096\n",
      "Epoch 28/100\n",
      "238/238 [==============================] - 1s 6ms/step - loss: 0.5971 - accuracy: 0.6686 - val_loss: 1.1609 - val_accuracy: 0.5092\n",
      "Epoch 29/100\n",
      "238/238 [==============================] - 1s 6ms/step - loss: 0.6120 - accuracy: 0.6646 - val_loss: 1.1073 - val_accuracy: 0.5085\n",
      "Epoch 30/100\n",
      "238/238 [==============================] - 1s 6ms/step - loss: 0.5926 - accuracy: 0.6765 - val_loss: 1.2745 - val_accuracy: 0.5080\n",
      "Epoch 31/100\n",
      "238/238 [==============================] - 1s 6ms/step - loss: 0.5867 - accuracy: 0.6807 - val_loss: 1.2532 - val_accuracy: 0.5034\n",
      "Epoch 32/100\n",
      "238/238 [==============================] - 1s 6ms/step - loss: 0.5864 - accuracy: 0.6828 - val_loss: 1.2090 - val_accuracy: 0.5072\n",
      "Epoch 33/100\n",
      "238/238 [==============================] - 1s 6ms/step - loss: 0.6054 - accuracy: 0.6750 - val_loss: 1.1304 - val_accuracy: 0.5045\n",
      "Epoch 34/100\n",
      "238/238 [==============================] - 1s 6ms/step - loss: 0.6090 - accuracy: 0.6816 - val_loss: 1.0330 - val_accuracy: 0.5116\n",
      "Epoch 35/100\n",
      "238/238 [==============================] - 1s 6ms/step - loss: 0.5823 - accuracy: 0.6893 - val_loss: 1.1568 - val_accuracy: 0.5074\n",
      "Epoch 36/100\n",
      "238/238 [==============================] - 1s 6ms/step - loss: 0.5695 - accuracy: 0.6953 - val_loss: 1.4579 - val_accuracy: 0.5006\n",
      "Epoch 37/100\n",
      "238/238 [==============================] - 1s 6ms/step - loss: 0.5584 - accuracy: 0.7033 - val_loss: 1.5887 - val_accuracy: 0.5072\n",
      "Epoch 38/100\n",
      "238/238 [==============================] - 1s 6ms/step - loss: 0.5642 - accuracy: 0.7051 - val_loss: 1.7269 - val_accuracy: 0.5070\n",
      "Epoch 39/100\n",
      "238/238 [==============================] - 1s 6ms/step - loss: 0.5540 - accuracy: 0.7084 - val_loss: 1.7055 - val_accuracy: 0.4986\n",
      "Epoch 40/100\n",
      "238/238 [==============================] - 1s 6ms/step - loss: 0.5958 - accuracy: 0.7008 - val_loss: 1.0485 - val_accuracy: 0.4987\n",
      "Epoch 41/100\n",
      "238/238 [==============================] - 1s 6ms/step - loss: 0.5588 - accuracy: 0.7094 - val_loss: 1.6460 - val_accuracy: 0.5052\n",
      "Epoch 42/100\n",
      "238/238 [==============================] - 1s 6ms/step - loss: 0.5389 - accuracy: 0.7233 - val_loss: 2.0094 - val_accuracy: 0.5011\n",
      "Epoch 43/100\n",
      "238/238 [==============================] - 1s 6ms/step - loss: 0.5570 - accuracy: 0.7208 - val_loss: 1.6569 - val_accuracy: 0.5082\n",
      "Epoch 44/100\n",
      "238/238 [==============================] - 1s 6ms/step - loss: 0.5381 - accuracy: 0.7304 - val_loss: 1.9813 - val_accuracy: 0.5064\n",
      "Epoch 45/100\n",
      "238/238 [==============================] - 1s 6ms/step - loss: 0.6521 - accuracy: 0.6866 - val_loss: 0.8510 - val_accuracy: 0.5059\n",
      "Epoch 46/100\n",
      "238/238 [==============================] - 1s 6ms/step - loss: 0.5878 - accuracy: 0.6936 - val_loss: 1.1875 - val_accuracy: 0.4986\n",
      "Epoch 47/100\n",
      "238/238 [==============================] - 1s 6ms/step - loss: 0.5740 - accuracy: 0.7009 - val_loss: 1.4877 - val_accuracy: 0.5103\n",
      "Epoch 48/100\n",
      "238/238 [==============================] - 1s 6ms/step - loss: 0.5768 - accuracy: 0.7168 - val_loss: 1.1782 - val_accuracy: 0.5158\n",
      "Epoch 49/100\n",
      "238/238 [==============================] - 2s 6ms/step - loss: 0.5544 - accuracy: 0.7245 - val_loss: 1.5508 - val_accuracy: 0.5103\n",
      "Epoch 50/100\n",
      "238/238 [==============================] - 1s 6ms/step - loss: 0.5213 - accuracy: 0.7371 - val_loss: 1.9995 - val_accuracy: 0.5100\n",
      "Epoch 51/100\n",
      "238/238 [==============================] - 1s 6ms/step - loss: 0.5314 - accuracy: 0.7362 - val_loss: 1.4777 - val_accuracy: 0.5018\n",
      "Epoch 52/100\n",
      "238/238 [==============================] - 1s 6ms/step - loss: 0.5328 - accuracy: 0.7371 - val_loss: 1.9366 - val_accuracy: 0.5005\n",
      "Epoch 53/100\n",
      "238/238 [==============================] - 1s 6ms/step - loss: 0.5172 - accuracy: 0.7476 - val_loss: 2.4885 - val_accuracy: 0.5134\n",
      "Epoch 54/100\n",
      "238/238 [==============================] - 1s 6ms/step - loss: 0.5432 - accuracy: 0.7339 - val_loss: 1.5550 - val_accuracy: 0.5047\n",
      "Epoch 55/100\n",
      "238/238 [==============================] - 1s 6ms/step - loss: 0.5442 - accuracy: 0.7229 - val_loss: 1.5829 - val_accuracy: 0.5022\n",
      "Epoch 56/100\n",
      "238/238 [==============================] - 1s 6ms/step - loss: 0.5861 - accuracy: 0.7290 - val_loss: 1.3339 - val_accuracy: 0.5022\n",
      "Epoch 57/100\n",
      "238/238 [==============================] - 1s 6ms/step - loss: 0.5430 - accuracy: 0.7226 - val_loss: 1.7830 - val_accuracy: 0.5021\n",
      "Epoch 58/100\n",
      "238/238 [==============================] - 2s 6ms/step - loss: 0.5455 - accuracy: 0.7356 - val_loss: 1.4734 - val_accuracy: 0.5121\n",
      "Epoch 59/100\n",
      "238/238 [==============================] - 1s 6ms/step - loss: 0.5196 - accuracy: 0.7430 - val_loss: 2.0116 - val_accuracy: 0.5039\n",
      "Epoch 60/100\n",
      "238/238 [==============================] - 1s 6ms/step - loss: 0.5440 - accuracy: 0.7436 - val_loss: 1.6683 - val_accuracy: 0.4986\n",
      "Epoch 61/100\n",
      "238/238 [==============================] - 1s 6ms/step - loss: 0.5345 - accuracy: 0.7440 - val_loss: 1.4140 - val_accuracy: 0.5134\n",
      "Epoch 62/100\n",
      "238/238 [==============================] - 1s 6ms/step - loss: 0.5256 - accuracy: 0.7377 - val_loss: 1.8021 - val_accuracy: 0.5005\n",
      "Epoch 63/100\n",
      "238/238 [==============================] - 1s 6ms/step - loss: 0.5437 - accuracy: 0.7433 - val_loss: 1.7549 - val_accuracy: 0.5013\n",
      "Epoch 64/100\n",
      "238/238 [==============================] - 1s 6ms/step - loss: 0.5068 - accuracy: 0.7556 - val_loss: 2.0331 - val_accuracy: 0.4941\n",
      "Epoch 65/100\n",
      "238/238 [==============================] - 1s 6ms/step - loss: 0.5127 - accuracy: 0.7534 - val_loss: 2.1884 - val_accuracy: 0.5014\n",
      "Epoch 66/100\n",
      "238/238 [==============================] - 1s 6ms/step - loss: 0.4936 - accuracy: 0.7609 - val_loss: 1.9499 - val_accuracy: 0.4972\n",
      "Epoch 67/100\n",
      "238/238 [==============================] - 1s 6ms/step - loss: 0.5893 - accuracy: 0.7500 - val_loss: 1.6808 - val_accuracy: 0.4981\n",
      "Epoch 68/100\n",
      "238/238 [==============================] - 1s 6ms/step - loss: 0.5769 - accuracy: 0.7089 - val_loss: 1.2834 - val_accuracy: 0.5057\n",
      "Epoch 69/100\n",
      "238/238 [==============================] - 1s 6ms/step - loss: 0.5263 - accuracy: 0.7374 - val_loss: 1.4718 - val_accuracy: 0.5058\n",
      "Epoch 70/100\n",
      "238/238 [==============================] - 1s 6ms/step - loss: 0.4985 - accuracy: 0.7504 - val_loss: 1.8463 - val_accuracy: 0.5039\n",
      "Epoch 71/100\n",
      "238/238 [==============================] - 1s 6ms/step - loss: 0.4813 - accuracy: 0.7603 - val_loss: 2.0976 - val_accuracy: 0.5012\n",
      "Epoch 72/100\n",
      "238/238 [==============================] - 1s 6ms/step - loss: 0.4747 - accuracy: 0.7669 - val_loss: 2.3428 - val_accuracy: 0.5001\n",
      "Epoch 73/100\n",
      "238/238 [==============================] - 1s 6ms/step - loss: 0.4718 - accuracy: 0.7718 - val_loss: 2.3170 - val_accuracy: 0.5007\n",
      "Epoch 74/100\n",
      "238/238 [==============================] - 1s 6ms/step - loss: 0.7504 - accuracy: 0.7322 - val_loss: 1.5131 - val_accuracy: 0.4952\n",
      "Epoch 75/100\n",
      "238/238 [==============================] - 1s 6ms/step - loss: 0.5221 - accuracy: 0.7374 - val_loss: 1.7704 - val_accuracy: 0.4998\n",
      "Epoch 76/100\n",
      "238/238 [==============================] - 1s 6ms/step - loss: 0.7648 - accuracy: 0.6915 - val_loss: 1.1701 - val_accuracy: 0.5006\n",
      "Epoch 77/100\n",
      "238/238 [==============================] - 1s 6ms/step - loss: 0.6019 - accuracy: 0.6855 - val_loss: 1.1137 - val_accuracy: 0.5095\n",
      "Epoch 78/100\n",
      "238/238 [==============================] - 1s 6ms/step - loss: 0.5657 - accuracy: 0.7077 - val_loss: 1.2530 - val_accuracy: 0.5065\n",
      "Epoch 79/100\n",
      "238/238 [==============================] - 1s 6ms/step - loss: 0.5461 - accuracy: 0.7227 - val_loss: 1.4041 - val_accuracy: 0.5070\n",
      "Epoch 80/100\n",
      "238/238 [==============================] - 1s 6ms/step - loss: 0.5303 - accuracy: 0.7332 - val_loss: 1.5419 - val_accuracy: 0.5073\n",
      "Epoch 81/100\n",
      "238/238 [==============================] - 1s 6ms/step - loss: 0.5215 - accuracy: 0.7407 - val_loss: 1.6804 - val_accuracy: 0.5056\n",
      "Epoch 82/100\n",
      "238/238 [==============================] - 1s 6ms/step - loss: 0.5051 - accuracy: 0.7494 - val_loss: 1.8206 - val_accuracy: 0.5032\n",
      "Epoch 83/100\n",
      "238/238 [==============================] - 1s 6ms/step - loss: 0.4929 - accuracy: 0.7554 - val_loss: 1.9970 - val_accuracy: 0.5018\n",
      "Epoch 84/100\n",
      "238/238 [==============================] - 1s 6ms/step - loss: 0.4885 - accuracy: 0.7616 - val_loss: 1.9600 - val_accuracy: 0.5022\n",
      "Epoch 85/100\n",
      "238/238 [==============================] - 1s 6ms/step - loss: 0.4769 - accuracy: 0.7659 - val_loss: 2.2719 - val_accuracy: 0.5011\n",
      "Epoch 86/100\n",
      "238/238 [==============================] - 1s 6ms/step - loss: 0.4777 - accuracy: 0.7670 - val_loss: 2.3638 - val_accuracy: 0.5022\n",
      "Epoch 87/100\n",
      "238/238 [==============================] - 1s 6ms/step - loss: 0.4636 - accuracy: 0.7729 - val_loss: 2.4812 - val_accuracy: 0.4995\n",
      "Epoch 88/100\n",
      "238/238 [==============================] - 1s 6ms/step - loss: 0.5209 - accuracy: 0.7690 - val_loss: 2.3298 - val_accuracy: 0.4987\n",
      "Epoch 89/100\n",
      "238/238 [==============================] - 1s 6ms/step - loss: 0.5110 - accuracy: 0.7582 - val_loss: 2.3128 - val_accuracy: 0.5003\n",
      "Epoch 90/100\n",
      "238/238 [==============================] - 1s 6ms/step - loss: 0.5060 - accuracy: 0.7632 - val_loss: 2.3238 - val_accuracy: 0.4984\n",
      "Epoch 91/100\n",
      "238/238 [==============================] - 1s 6ms/step - loss: 0.5863 - accuracy: 0.7430 - val_loss: 1.9739 - val_accuracy: 0.4976\n",
      "Epoch 92/100\n",
      "238/238 [==============================] - 1s 6ms/step - loss: 0.4871 - accuracy: 0.7669 - val_loss: 2.3284 - val_accuracy: 0.4947\n",
      "Epoch 93/100\n",
      "238/238 [==============================] - 2s 6ms/step - loss: 0.4751 - accuracy: 0.7737 - val_loss: 2.4859 - val_accuracy: 0.4997\n",
      "Epoch 94/100\n",
      "238/238 [==============================] - 1s 6ms/step - loss: 0.4862 - accuracy: 0.7696 - val_loss: 2.6256 - val_accuracy: 0.5009\n",
      "Epoch 95/100\n",
      "238/238 [==============================] - 1s 6ms/step - loss: 0.4559 - accuracy: 0.7847 - val_loss: 2.8019 - val_accuracy: 0.4990\n",
      "Epoch 96/100\n",
      "238/238 [==============================] - 1s 6ms/step - loss: 0.5363 - accuracy: 0.7716 - val_loss: 2.4539 - val_accuracy: 0.5010\n",
      "Epoch 97/100\n",
      "238/238 [==============================] - 1s 6ms/step - loss: 0.4814 - accuracy: 0.7722 - val_loss: 2.6708 - val_accuracy: 0.5014\n",
      "Epoch 98/100\n",
      "238/238 [==============================] - 1s 6ms/step - loss: 0.5318 - accuracy: 0.7556 - val_loss: 2.0185 - val_accuracy: 0.4955\n",
      "Epoch 99/100\n",
      "238/238 [==============================] - 1s 6ms/step - loss: 0.5483 - accuracy: 0.7400 - val_loss: 1.5943 - val_accuracy: 0.5009\n",
      "Epoch 100/100\n",
      "238/238 [==============================] - 1s 6ms/step - loss: 0.4848 - accuracy: 0.7633 - val_loss: 2.0178 - val_accuracy: 0.4892\n"
     ]
    }
   ],
   "source": [
    "# dataset_scaled_train = dataset_scaled[:'2015']\n",
    "\n",
    "import datetime\n",
    "X_train = X[indexes < datetime.datetime(2023, 1, 1)]\n",
    "y_train = y[indexes < datetime.datetime(2023, 1, 1)]\n",
    "\n",
    "checkpoint_filepath = './lstm_model.h5'\n",
    "model_checkpoint_callback = keras.callbacks.ModelCheckpoint(\n",
    "    filepath=checkpoint_filepath,\n",
    "    save_weights_only=True,\n",
    "    monitor='val_loss',\n",
    "    mode='min',\n",
    "    save_best_only=True)\n",
    "\n",
    "history = model.fit(\n",
    "    X_train,\n",
    "    y_train > 1,\n",
    "    batch_size=256,\n",
    "    epochs=100,\n",
    "    validation_split=0.2,\n",
    "    callbacks=[model_checkpoint_callback])"
   ]
  },
  {
   "cell_type": "code",
   "execution_count": 36,
   "metadata": {},
   "outputs": [],
   "source": [
    "model.load_weights(checkpoint_filepath)"
   ]
  },
  {
   "cell_type": "code",
   "execution_count": 37,
   "metadata": {},
   "outputs": [
    {
     "data": {
      "text/plain": [
       "[<matplotlib.lines.Line2D at 0x23d883c5e80>]"
      ]
     },
     "execution_count": 37,
     "metadata": {},
     "output_type": "execute_result"
    },
    {
     "data": {
      "image/png": "[encoded data removed]",
      "text/plain": [
       "<Figure size 640x480 with 1 Axes>"
      ]
     },
     "metadata": {},
     "output_type": "display_data"
    }
   ],
   "source": [
    "import matplotlib.pyplot as plt\n",
    "%matplotlib inline\n",
    "plt.plot(history.history['loss'])\n",
    "plt.plot(history.history['val_loss'])"
   ]
  },
  {
   "cell_type": "markdown",
   "metadata": {},
   "source": [
    "## 回測"
   ]
  },
  {
   "cell_type": "code",
   "execution_count": 38,
   "metadata": {},
   "outputs": [
    {
     "name": "stdout",
     "output_type": "stream",
     "text": [
      "2380/2380 [==============================] - 4s 2ms/step\n"
     ]
    },
    {
     "data": {
      "text/plain": [
       "<Axes: >"
      ]
     },
     "execution_count": 38,
     "metadata": {},
     "output_type": "execute_result"
    },
    {
     "data": {
      "image/png": "[encoded data removed]",
      "text/plain": [
       "<Figure size 640x480 with 1 Axes>"
      ]
     },
     "metadata": {},
     "output_type": "display_data"
    }
   ],
   "source": [
    "ey = model.predict(X)\n",
    "ey = pd.Series(ey.swapaxes(0,1)[0], index=indexes)\n",
    "ey.plot()\n"
   ]
  },
  {
   "cell_type": "code",
   "execution_count": 43,
   "metadata": {},
   "outputs": [
    {
     "data": {
      "text/plain": [
       "<Axes: xlabel='date'>"
      ]
     },
     "execution_count": 43,
     "metadata": {},
     "output_type": "execute_result"
    },
    {
     "data": {
      "image/png": "[encoded data removed]",
      "text/plain": [
       "<Figure size 640x480 with 1 Axes>"
      ]
     },
     "metadata": {},
     "output_type": "display_data"
    }
   ],
   "source": [
    "eq = twii[indexes]\n",
    "returns = (eq.shift(-1) - eq)\n",
    "\n",
    "signal = (ey > ey.quantile(0.6)).rolling(10).sum() > 0\n",
    "signal = signal.shift(1).fillna(False)\n",
    "\n",
    "eq = (returns[signal]['2016':]).cumsum()\n",
    "eq.plot()"
   ]
  },
  {
   "cell_type": "code",
   "execution_count": 44,
   "metadata": {},
   "outputs": [
    {
     "data": {
      "text/plain": [
       "1317.0"
      ]
     },
     "execution_count": 44,
     "metadata": {},
     "output_type": "execute_result"
    }
   ],
   "source": [
    "(signal.astype(int).diff().abs().fillna(0) * 3)['2016':].sum()"
   ]
  }
 ],
 "metadata": {
  "kernelspec": {
   "display_name": "fintech2",
   "language": "python",
   "name": "python3"
  },
  "language_info": {
   "codemirror_mode": {
    "name": "ipython",
    "version": 3
   },
   "file_extension": ".py",
   "mimetype": "text/x-python",
   "name": "python",
   "nbconvert_exporter": "python",
   "pygments_lexer": "ipython3",
   "version": "3.9.0"
  }
 },
 "nbformat": 4,
 "nbformat_minor": 4
}
